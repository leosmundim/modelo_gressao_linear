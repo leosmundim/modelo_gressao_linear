{
  "nbformat": 4,
  "nbformat_minor": 0,
  "metadata": {
    "colab": {
      "name": "Modelo_Regressao_Linear_TCC.ipynb",
      "provenance": [],
      "authorship_tag": "ABX9TyMx/bGEnWGwuSPU3570OHOv",
      "include_colab_link": true
    },
    "kernelspec": {
      "name": "python3",
      "display_name": "Python 3"
    },
    "language_info": {
      "name": "python"
    }
  },
  "cells": [
    {
      "cell_type": "markdown",
      "metadata": {
        "id": "view-in-github",
        "colab_type": "text"
      },
      "source": [
        "<a href=\"https://colab.research.google.com/github/leosmundim/modelo_gressao_linear/blob/main/Modelo_Regressao_Linear_TCC.ipynb\" target=\"_parent\"><img src=\"https://colab.research.google.com/assets/colab-badge.svg\" alt=\"Open In Colab\"/></a>"
      ]
    },
    {
      "cell_type": "code",
      "execution_count": null,
      "metadata": {
        "id": "aIsaJvv0suD3"
      },
      "outputs": [],
      "source": [
        "import pandas as pd\n",
        "import numpy as np\n",
        "import math\n",
        "import matplotlib.pyplot as plt\n",
        "from scipy.stats import normaltest\n",
        "import statsmodels.formula.api as sm\n",
        "import scipy.stats as stats"
      ]
    },
    {
      "cell_type": "code",
      "source": [
        "df = pd.read_excel('/content/base_tcc.xlsx')"
      ],
      "metadata": {
        "id": "tq9yVx1G0BAv"
      },
      "execution_count": null,
      "outputs": []
    },
    {
      "cell_type": "code",
      "source": [
        "df.info()"
      ],
      "metadata": {
        "colab": {
          "base_uri": "https://localhost:8080/"
        },
        "id": "hd8AQDmU0VMj",
        "outputId": "d38a5d78-afcf-4cfa-9aa1-d9ecd4beef7c"
      },
      "execution_count": null,
      "outputs": [
        {
          "output_type": "stream",
          "name": "stdout",
          "text": [
            "<class 'pandas.core.frame.DataFrame'>\n",
            "RangeIndex: 37 entries, 0 to 36\n",
            "Data columns (total 11 columns):\n",
            " #   Column         Non-Null Count  Dtype         \n",
            "---  ------         --------------  -----         \n",
            " 0   DATE           37 non-null     datetime64[ns]\n",
            " 1   INAD           37 non-null     float64       \n",
            " 2   Empregoformal  37 non-null     float64       \n",
            " 3   IGP_M          37 non-null     float64       \n",
            " 4   IPCA           37 non-null     float64       \n",
            " 5   PIB            37 non-null     float64       \n",
            " 6   Renda_Media    37 non-null     float64       \n",
            " 7   Salario        37 non-null     int64         \n",
            " 8   SELIC          37 non-null     float64       \n",
            " 9   Taxa_Juros     37 non-null     float64       \n",
            " 10  desemprego     37 non-null     float64       \n",
            "dtypes: datetime64[ns](1), float64(9), int64(1)\n",
            "memory usage: 3.3 KB\n"
          ]
        }
      ]
    },
    {
      "cell_type": "markdown",
      "source": [
        "## **Analisando Correlações**"
      ],
      "metadata": {
        "id": "qRX4scSoqDJ8"
      }
    },
    {
      "cell_type": "code",
      "source": [
        "#Correlação INAD (var resposta) vs Demais (var. explicativas)\n",
        "df[df.columns[1:]].corr()['INAD'][:]"
      ],
      "metadata": {
        "colab": {
          "base_uri": "https://localhost:8080/"
        },
        "id": "ksbGdXLT2-Wl",
        "outputId": "d3699249-acd8-4c1c-9a83-d8f07181a61c"
      },
      "execution_count": null,
      "outputs": [
        {
          "output_type": "execute_result",
          "data": {
            "text/plain": [
              "INAD             1.000000\n",
              "Empregoformal   -0.431075\n",
              "IGP_M           -0.067201\n",
              "IPCA            -0.235699\n",
              "PIB             -0.613913\n",
              "Renda_Media     -0.218630\n",
              "Salario         -0.508479\n",
              "SELIC           -0.174612\n",
              "Taxa_Juros       0.162496\n",
              "desemprego       0.296769\n",
              "Name: INAD, dtype: float64"
            ]
          },
          "metadata": {},
          "execution_count": 15
        }
      ]
    },
    {
      "cell_type": "code",
      "source": [
        "#Correlação INAD vs Empregoformal, IGP_M, IPCA e INAD\n",
        "df[['Empregoformal', 'IGP_M', 'IPCA', 'INAD']].corr()['INAD'][:]"
      ],
      "metadata": {
        "colab": {
          "base_uri": "https://localhost:8080/"
        },
        "id": "o05kdspc4dHz",
        "outputId": "4f8d09d9-e155-4709-aed5-825ea711addc"
      },
      "execution_count": null,
      "outputs": [
        {
          "output_type": "execute_result",
          "data": {
            "text/plain": [
              "Empregoformal   -0.431075\n",
              "IGP_M           -0.067201\n",
              "IPCA            -0.235699\n",
              "INAD             1.000000\n",
              "Name: INAD, dtype: float64"
            ]
          },
          "metadata": {},
          "execution_count": 16
        }
      ]
    },
    {
      "cell_type": "code",
      "source": [
        "#Matriz correlação\n",
        "corr = df.corr()\n",
        "corr"
      ],
      "metadata": {
        "colab": {
          "base_uri": "https://localhost:8080/",
          "height": 363
        },
        "id": "cJK9T45y3-HT",
        "outputId": "31d4f8f9-d4a2-4e92-fc26-2f0451999632"
      },
      "execution_count": null,
      "outputs": [
        {
          "output_type": "execute_result",
          "data": {
            "text/plain": [
              "                   INAD  Empregoformal     IGP_M      IPCA       PIB  \\\n",
              "INAD           1.000000      -0.431075 -0.067201 -0.235699 -0.613913   \n",
              "Empregoformal -0.431075       1.000000  0.277256  0.049336  0.876246   \n",
              "IGP_M         -0.067201       0.277256  1.000000  0.207862  0.144982   \n",
              "IPCA          -0.235699       0.049336  0.207862  1.000000  0.054489   \n",
              "PIB           -0.613913       0.876246  0.144982  0.054489  1.000000   \n",
              "Renda_Media   -0.218630       0.369198 -0.031388  0.393734  0.493459   \n",
              "Salario       -0.508479       0.869690  0.210688  0.166367  0.742331   \n",
              "SELIC         -0.174612      -0.625891 -0.100957 -0.025284 -0.452664   \n",
              "Taxa_Juros     0.162496      -0.825685 -0.177340 -0.084255 -0.722171   \n",
              "desemprego     0.296769      -0.646179 -0.095504 -0.388084 -0.636842   \n",
              "\n",
              "               Renda_Media   Salario     SELIC  Taxa_Juros  desemprego  \n",
              "INAD             -0.218630 -0.508479 -0.174612    0.162496    0.296769  \n",
              "Empregoformal     0.369198  0.869690 -0.625891   -0.825685   -0.646179  \n",
              "IGP_M            -0.031388  0.210688 -0.100957   -0.177340   -0.095504  \n",
              "IPCA              0.393734  0.166367 -0.025284   -0.084255   -0.388084  \n",
              "PIB               0.493459  0.742331 -0.452664   -0.722171   -0.636842  \n",
              "Renda_Media       1.000000  0.265826 -0.230393   -0.388630   -0.848740  \n",
              "Salario           0.265826  1.000000 -0.610128   -0.788920   -0.485661  \n",
              "SELIC            -0.230393 -0.610128  1.000000    0.922775    0.319007  \n",
              "Taxa_Juros       -0.388630 -0.788920  0.922775    1.000000    0.517600  \n",
              "desemprego       -0.848740 -0.485661  0.319007    0.517600    1.000000  "
            ],
            "text/html": [
              "\n",
              "  <div id=\"df-dac0f232-2786-478b-9000-703c52c77e7c\">\n",
              "    <div class=\"colab-df-container\">\n",
              "      <div>\n",
              "<style scoped>\n",
              "    .dataframe tbody tr th:only-of-type {\n",
              "        vertical-align: middle;\n",
              "    }\n",
              "\n",
              "    .dataframe tbody tr th {\n",
              "        vertical-align: top;\n",
              "    }\n",
              "\n",
              "    .dataframe thead th {\n",
              "        text-align: right;\n",
              "    }\n",
              "</style>\n",
              "<table border=\"1\" class=\"dataframe\">\n",
              "  <thead>\n",
              "    <tr style=\"text-align: right;\">\n",
              "      <th></th>\n",
              "      <th>INAD</th>\n",
              "      <th>Empregoformal</th>\n",
              "      <th>IGP_M</th>\n",
              "      <th>IPCA</th>\n",
              "      <th>PIB</th>\n",
              "      <th>Renda_Media</th>\n",
              "      <th>Salario</th>\n",
              "      <th>SELIC</th>\n",
              "      <th>Taxa_Juros</th>\n",
              "      <th>desemprego</th>\n",
              "    </tr>\n",
              "  </thead>\n",
              "  <tbody>\n",
              "    <tr>\n",
              "      <th>INAD</th>\n",
              "      <td>1.000000</td>\n",
              "      <td>-0.431075</td>\n",
              "      <td>-0.067201</td>\n",
              "      <td>-0.235699</td>\n",
              "      <td>-0.613913</td>\n",
              "      <td>-0.218630</td>\n",
              "      <td>-0.508479</td>\n",
              "      <td>-0.174612</td>\n",
              "      <td>0.162496</td>\n",
              "      <td>0.296769</td>\n",
              "    </tr>\n",
              "    <tr>\n",
              "      <th>Empregoformal</th>\n",
              "      <td>-0.431075</td>\n",
              "      <td>1.000000</td>\n",
              "      <td>0.277256</td>\n",
              "      <td>0.049336</td>\n",
              "      <td>0.876246</td>\n",
              "      <td>0.369198</td>\n",
              "      <td>0.869690</td>\n",
              "      <td>-0.625891</td>\n",
              "      <td>-0.825685</td>\n",
              "      <td>-0.646179</td>\n",
              "    </tr>\n",
              "    <tr>\n",
              "      <th>IGP_M</th>\n",
              "      <td>-0.067201</td>\n",
              "      <td>0.277256</td>\n",
              "      <td>1.000000</td>\n",
              "      <td>0.207862</td>\n",
              "      <td>0.144982</td>\n",
              "      <td>-0.031388</td>\n",
              "      <td>0.210688</td>\n",
              "      <td>-0.100957</td>\n",
              "      <td>-0.177340</td>\n",
              "      <td>-0.095504</td>\n",
              "    </tr>\n",
              "    <tr>\n",
              "      <th>IPCA</th>\n",
              "      <td>-0.235699</td>\n",
              "      <td>0.049336</td>\n",
              "      <td>0.207862</td>\n",
              "      <td>1.000000</td>\n",
              "      <td>0.054489</td>\n",
              "      <td>0.393734</td>\n",
              "      <td>0.166367</td>\n",
              "      <td>-0.025284</td>\n",
              "      <td>-0.084255</td>\n",
              "      <td>-0.388084</td>\n",
              "    </tr>\n",
              "    <tr>\n",
              "      <th>PIB</th>\n",
              "      <td>-0.613913</td>\n",
              "      <td>0.876246</td>\n",
              "      <td>0.144982</td>\n",
              "      <td>0.054489</td>\n",
              "      <td>1.000000</td>\n",
              "      <td>0.493459</td>\n",
              "      <td>0.742331</td>\n",
              "      <td>-0.452664</td>\n",
              "      <td>-0.722171</td>\n",
              "      <td>-0.636842</td>\n",
              "    </tr>\n",
              "    <tr>\n",
              "      <th>Renda_Media</th>\n",
              "      <td>-0.218630</td>\n",
              "      <td>0.369198</td>\n",
              "      <td>-0.031388</td>\n",
              "      <td>0.393734</td>\n",
              "      <td>0.493459</td>\n",
              "      <td>1.000000</td>\n",
              "      <td>0.265826</td>\n",
              "      <td>-0.230393</td>\n",
              "      <td>-0.388630</td>\n",
              "      <td>-0.848740</td>\n",
              "    </tr>\n",
              "    <tr>\n",
              "      <th>Salario</th>\n",
              "      <td>-0.508479</td>\n",
              "      <td>0.869690</td>\n",
              "      <td>0.210688</td>\n",
              "      <td>0.166367</td>\n",
              "      <td>0.742331</td>\n",
              "      <td>0.265826</td>\n",
              "      <td>1.000000</td>\n",
              "      <td>-0.610128</td>\n",
              "      <td>-0.788920</td>\n",
              "      <td>-0.485661</td>\n",
              "    </tr>\n",
              "    <tr>\n",
              "      <th>SELIC</th>\n",
              "      <td>-0.174612</td>\n",
              "      <td>-0.625891</td>\n",
              "      <td>-0.100957</td>\n",
              "      <td>-0.025284</td>\n",
              "      <td>-0.452664</td>\n",
              "      <td>-0.230393</td>\n",
              "      <td>-0.610128</td>\n",
              "      <td>1.000000</td>\n",
              "      <td>0.922775</td>\n",
              "      <td>0.319007</td>\n",
              "    </tr>\n",
              "    <tr>\n",
              "      <th>Taxa_Juros</th>\n",
              "      <td>0.162496</td>\n",
              "      <td>-0.825685</td>\n",
              "      <td>-0.177340</td>\n",
              "      <td>-0.084255</td>\n",
              "      <td>-0.722171</td>\n",
              "      <td>-0.388630</td>\n",
              "      <td>-0.788920</td>\n",
              "      <td>0.922775</td>\n",
              "      <td>1.000000</td>\n",
              "      <td>0.517600</td>\n",
              "    </tr>\n",
              "    <tr>\n",
              "      <th>desemprego</th>\n",
              "      <td>0.296769</td>\n",
              "      <td>-0.646179</td>\n",
              "      <td>-0.095504</td>\n",
              "      <td>-0.388084</td>\n",
              "      <td>-0.636842</td>\n",
              "      <td>-0.848740</td>\n",
              "      <td>-0.485661</td>\n",
              "      <td>0.319007</td>\n",
              "      <td>0.517600</td>\n",
              "      <td>1.000000</td>\n",
              "    </tr>\n",
              "  </tbody>\n",
              "</table>\n",
              "</div>\n",
              "      <button class=\"colab-df-convert\" onclick=\"convertToInteractive('df-dac0f232-2786-478b-9000-703c52c77e7c')\"\n",
              "              title=\"Convert this dataframe to an interactive table.\"\n",
              "              style=\"display:none;\">\n",
              "        \n",
              "  <svg xmlns=\"http://www.w3.org/2000/svg\" height=\"24px\"viewBox=\"0 0 24 24\"\n",
              "       width=\"24px\">\n",
              "    <path d=\"M0 0h24v24H0V0z\" fill=\"none\"/>\n",
              "    <path d=\"M18.56 5.44l.94 2.06.94-2.06 2.06-.94-2.06-.94-.94-2.06-.94 2.06-2.06.94zm-11 1L8.5 8.5l.94-2.06 2.06-.94-2.06-.94L8.5 2.5l-.94 2.06-2.06.94zm10 10l.94 2.06.94-2.06 2.06-.94-2.06-.94-.94-2.06-.94 2.06-2.06.94z\"/><path d=\"M17.41 7.96l-1.37-1.37c-.4-.4-.92-.59-1.43-.59-.52 0-1.04.2-1.43.59L10.3 9.45l-7.72 7.72c-.78.78-.78 2.05 0 2.83L4 21.41c.39.39.9.59 1.41.59.51 0 1.02-.2 1.41-.59l7.78-7.78 2.81-2.81c.8-.78.8-2.07 0-2.86zM5.41 20L4 18.59l7.72-7.72 1.47 1.35L5.41 20z\"/>\n",
              "  </svg>\n",
              "      </button>\n",
              "      \n",
              "  <style>\n",
              "    .colab-df-container {\n",
              "      display:flex;\n",
              "      flex-wrap:wrap;\n",
              "      gap: 12px;\n",
              "    }\n",
              "\n",
              "    .colab-df-convert {\n",
              "      background-color: #E8F0FE;\n",
              "      border: none;\n",
              "      border-radius: 50%;\n",
              "      cursor: pointer;\n",
              "      display: none;\n",
              "      fill: #1967D2;\n",
              "      height: 32px;\n",
              "      padding: 0 0 0 0;\n",
              "      width: 32px;\n",
              "    }\n",
              "\n",
              "    .colab-df-convert:hover {\n",
              "      background-color: #E2EBFA;\n",
              "      box-shadow: 0px 1px 2px rgba(60, 64, 67, 0.3), 0px 1px 3px 1px rgba(60, 64, 67, 0.15);\n",
              "      fill: #174EA6;\n",
              "    }\n",
              "\n",
              "    [theme=dark] .colab-df-convert {\n",
              "      background-color: #3B4455;\n",
              "      fill: #D2E3FC;\n",
              "    }\n",
              "\n",
              "    [theme=dark] .colab-df-convert:hover {\n",
              "      background-color: #434B5C;\n",
              "      box-shadow: 0px 1px 3px 1px rgba(0, 0, 0, 0.15);\n",
              "      filter: drop-shadow(0px 1px 2px rgba(0, 0, 0, 0.3));\n",
              "      fill: #FFFFFF;\n",
              "    }\n",
              "  </style>\n",
              "\n",
              "      <script>\n",
              "        const buttonEl =\n",
              "          document.querySelector('#df-dac0f232-2786-478b-9000-703c52c77e7c button.colab-df-convert');\n",
              "        buttonEl.style.display =\n",
              "          google.colab.kernel.accessAllowed ? 'block' : 'none';\n",
              "\n",
              "        async function convertToInteractive(key) {\n",
              "          const element = document.querySelector('#df-dac0f232-2786-478b-9000-703c52c77e7c');\n",
              "          const dataTable =\n",
              "            await google.colab.kernel.invokeFunction('convertToInteractive',\n",
              "                                                     [key], {});\n",
              "          if (!dataTable) return;\n",
              "\n",
              "          const docLinkHtml = 'Like what you see? Visit the ' +\n",
              "            '<a target=\"_blank\" href=https://colab.research.google.com/notebooks/data_table.ipynb>data table notebook</a>'\n",
              "            + ' to learn more about interactive tables.';\n",
              "          element.innerHTML = '';\n",
              "          dataTable['output_type'] = 'display_data';\n",
              "          await google.colab.output.renderOutput(dataTable, element);\n",
              "          const docLink = document.createElement('div');\n",
              "          docLink.innerHTML = docLinkHtml;\n",
              "          element.appendChild(docLink);\n",
              "        }\n",
              "      </script>\n",
              "    </div>\n",
              "  </div>\n",
              "  "
            ]
          },
          "metadata": {},
          "execution_count": 17
        }
      ]
    },
    {
      "cell_type": "code",
      "source": [
        "#Gráfico matriz correlação\n",
        "corr = df.corr()\n",
        "fig = plt.figure()\n",
        "ax = fig.add_subplot(111)\n",
        "cax = ax.matshow(corr, cmap='coolwarm', vmin=-1, vmax=1)\n",
        "fig.colorbar(cax)\n",
        "ticks = np.arange(0, len(df.columns),1)\n",
        "ax.set_xticks(ticks)\n",
        "plt.xticks(rotation=90)\n",
        "ax.set_yticks(ticks)\n",
        "ax.set_xticklabels(df.columns)\n",
        "ax.set_yticklabels(df.columns)\n",
        "plt.show()"
      ],
      "metadata": {
        "colab": {
          "base_uri": "https://localhost:8080/",
          "height": 338
        },
        "id": "EOXQOhQTqfXA",
        "outputId": "38c8a745-ee4a-426c-f127-093e8738d8ec"
      },
      "execution_count": null,
      "outputs": [
        {
          "output_type": "display_data",
          "data": {
            "text/plain": [
              "<Figure size 432x288 with 2 Axes>"
            ],
            "image/png": "[encoded data removed]"
          },
          "metadata": {
            "needs_background": "light"
          }
        }
      ]
    },
    {
      "cell_type": "code",
      "source": [
        "#Teste T-student\n",
        "result = stats.ttest_ind(df['INAD'],df['Renda_Media'])"
      ],
      "metadata": {
        "id": "S7pw8PUC5XdS"
      },
      "execution_count": null,
      "outputs": []
    },
    {
      "cell_type": "code",
      "source": [
        "result"
      ],
      "metadata": {
        "id": "ZYbVotBS56cQ",
        "colab": {
          "base_uri": "https://localhost:8080/"
        },
        "outputId": "cc83d7f8-38a7-4f1f-abe8-4b8400175e67"
      },
      "execution_count": null,
      "outputs": [
        {
          "output_type": "execute_result",
          "data": {
            "text/plain": [
              "Ttest_indResult(statistic=-76.00176720813933, pvalue=1.6802324613106954e-70)"
            ]
          },
          "metadata": {},
          "execution_count": 22
        }
      ]
    },
    {
      "cell_type": "code",
      "source": [
        "result = stats.ttest_ind(df['INAD'],df['Renda_Media'])"
      ],
      "metadata": {
        "id": "xhJvYs_aCLtk"
      },
      "execution_count": null,
      "outputs": []
    },
    {
      "cell_type": "code",
      "source": [
        "#https://analyticsindiamag.com/understand-the-significance-of-t-test-and-p-value-using-python/\n",
        "\n",
        "#https://www.alura.com.br/conteudo/estatistica-testes-hipotestes"
      ],
      "metadata": {
        "id": "7d9Zw_8GE7nk"
      },
      "execution_count": null,
      "outputs": []
    },
    {
      "cell_type": "markdown",
      "source": [
        "# **Analisando se as variáveis seguem distribuição normal**"
      ],
      "metadata": {
        "id": "-ThU69LhvCLm"
      }
    },
    {
      "cell_type": "code",
      "source": [
        "#Analisando se a variável é uma distribuição normal visualmente\n",
        "fig, axes = plt.subplots(1,3)\n",
        "df['Renda_Media'].hist(ax = axes[0])\n",
        "df['Salario'].hist(ax=axes[1])\n",
        "df['desemprego'].hist(ax=axes[2])\n",
        "plt.show()"
      ],
      "metadata": {
        "colab": {
          "base_uri": "https://localhost:8080/",
          "height": 265
        },
        "id": "1NbaBdGrHkKN",
        "outputId": "36ca1a88-f8c0-4d4b-f65a-597c26464e39"
      },
      "execution_count": null,
      "outputs": [
        {
          "output_type": "display_data",
          "data": {
            "text/plain": [
              "<Figure size 432x288 with 3 Axes>"
            ],
            "image/png": "[encoded data removed]"
          },
          "metadata": {
            "needs_background": "light"
          }
        }
      ]
    },
    {
      "cell_type": "code",
      "source": [
        "#Analisando se a variável é uma distribuição normal visualmente mais detalhe\n",
        "df['desemprego'].hist(bins=100)\n"
      ],
      "metadata": {
        "colab": {
          "base_uri": "https://localhost:8080/",
          "height": 282
        },
        "id": "bYasMVXou4ia",
        "outputId": "9a9e78c6-9582-4da4-8470-d2c0022f6af1"
      },
      "execution_count": null,
      "outputs": [
        {
          "output_type": "execute_result",
          "data": {
            "text/plain": [
              "<matplotlib.axes._subplots.AxesSubplot at 0x7fd603090b90>"
            ]
          },
          "metadata": {},
          "execution_count": 26
        },
        {
          "output_type": "display_data",
          "data": {
            "text/plain": [
              "<Figure size 432x288 with 1 Axes>"
            ],
            "image/png": "[encoded data removed]"
          },
          "metadata": {
            "needs_background": "light"
          }
        }
      ]
    },
    {
      "cell_type": "code",
      "source": [
        "#Testando formalmente\n",
        "#onde, p-value < 5% descarta H0. H0 afirma que segue distribuição normal. Se p-value < 0,05, não é uma distribuição normal\n",
        "stat_test, p_valor = normaltest(df['desemprego'])\n",
        "\n",
        "print(f\"p_value: {p_valor:.4f} p_valor <= 0.05 ?: {p_valor<=0.05}\")\n",
        "#H0 é a hipótese de que a amostra segue uma dist normal. P_valor < 5% rejeita H0\n",
        "#nesse caso, desemprego segue uma distribuicao normal\n"
      ],
      "metadata": {
        "colab": {
          "base_uri": "https://localhost:8080/"
        },
        "id": "9oT2FwUAITfV",
        "outputId": "24225d57-252a-47bd-f850-e3a508895a2f"
      },
      "execution_count": null,
      "outputs": [
        {
          "output_type": "stream",
          "name": "stdout",
          "text": [
            "p_value: 0.6138 p_valor <= 0.05 ?: False\n"
          ]
        }
      ]
    },
    {
      "cell_type": "code",
      "source": [
        "#Teste de normalidade Shapiro-Wilk\n",
        "#p-valor > 0.05 é uma distribuição normal\n",
        "shapiroTest, p_valor_shapiro = stats.shapiro(df['desemprego'])\n",
        "print(\"p-value shapiro:\", p_valor_shapiro)"
      ],
      "metadata": {
        "colab": {
          "base_uri": "https://localhost:8080/"
        },
        "id": "OKk3oNqpxGpx",
        "outputId": "53fec24a-1ad9-46db-c961-e5210e946a6e"
      },
      "execution_count": null,
      "outputs": [
        {
          "output_type": "stream",
          "name": "stdout",
          "text": [
            "p-value shapiro: 0.6165697574615479\n"
          ]
        }
      ]
    },
    {
      "cell_type": "markdown",
      "source": [
        "## **Verificando Dispersão dos Dados em Relação a variável resposta**"
      ],
      "metadata": {
        "id": "GeelXjsYy9q7"
      }
    },
    {
      "cell_type": "code",
      "source": [
        "import seaborn as sns\n",
        "ax = sns.pairplot(df, y_vars='INAD', x_vars=['Renda_Media','Salario','desemprego','IPCA', 'IGP_M', 'PIB','Taxa_Juros'])\n",
        "ax.fig.suptitle('Dispersão entre variáveis', y=1.1)"
      ],
      "metadata": {
        "colab": {
          "base_uri": "https://localhost:8080/",
          "height": 239
        },
        "id": "dw5LCCcNzESk",
        "outputId": "9380ae40-1d14-4254-f57b-21fb5113af7f"
      },
      "execution_count": null,
      "outputs": [
        {
          "output_type": "execute_result",
          "data": {
            "text/plain": [
              "Text(0.5, 1.1, 'Dispersão entre variáveis')"
            ]
          },
          "metadata": {},
          "execution_count": 39
        },
        {
          "output_type": "display_data",
          "data": {
            "text/plain": [
              "<Figure size 1260x180 with 7 Axes>"
            ],
            "image/png": "[encoded data removed]"
          },
          "metadata": {
            "needs_background": "light"
          }
        }
      ]
    },
    {
      "cell_type": "markdown",
      "source": [
        "## **Criando Modelo de RegressãoLinear MQO**"
      ],
      "metadata": {
        "id": "a090Zt7D0Ksb"
      }
    },
    {
      "cell_type": "code",
      "source": [
        "#https://neylsoncrepalde.github.io/2018-02-25-regressao-linear-python/\n",
        "#Regressao Linear MQO - Mínimos Quadrados Ordinários\n",
        "#import statsmodels.formula.api as sm\n",
        "\n",
        "reg = sm.ols(formula = 'INAD~Empregoformal+IGP_M+IPCA+PIB+Renda_Media+Salario+SELIC+Taxa_Juros+desemprego', data=df).fit()\n",
        "print(reg.summary())"
      ],
      "metadata": {
        "colab": {
          "base_uri": "https://localhost:8080/"
        },
        "id": "oROFYYHvLKJ1",
        "outputId": "28fb5670-e001-4e09-aade-2615ef39200b"
      },
      "execution_count": null,
      "outputs": [
        {
          "output_type": "stream",
          "name": "stdout",
          "text": [
            "                            OLS Regression Results                            \n",
            "==============================================================================\n",
            "Dep. Variable:                   INAD   R-squared:                       0.878\n",
            "Model:                            OLS   Adj. R-squared:                  0.838\n",
            "Method:                 Least Squares   F-statistic:                     21.69\n",
            "Date:                Mon, 22 Aug 2022   Prob (F-statistic):           3.82e-10\n",
            "Time:                        23:09:21   Log-Likelihood:                 11.875\n",
            "No. Observations:                  37   AIC:                            -3.750\n",
            "Df Residuals:                      27   BIC:                             12.36\n",
            "Df Model:                           9                                         \n",
            "Covariance Type:            nonrobust                                         \n",
            "=================================================================================\n",
            "                    coef    std err          t      P>|t|      [0.025      0.975]\n",
            "---------------------------------------------------------------------------------\n",
            "Intercept         6.7866      8.146      0.833      0.412      -9.928      23.501\n",
            "Empregoformal     0.0177      0.066      0.270      0.789      -0.117       0.152\n",
            "IGP_M             0.1668      0.089      1.874      0.072      -0.016       0.349\n",
            "IPCA             -0.5664      0.205     -2.763      0.010      -0.987      -0.146\n",
            "PIB           -5.834e-06   3.79e-06     -1.540      0.135   -1.36e-05    1.94e-06\n",
            "Renda_Media    7.754e-05      0.001      0.141      0.889      -0.001       0.001\n",
            "Salario          -0.0030      0.001     -2.038      0.051      -0.006    2.03e-05\n",
            "SELIC            -0.5247      0.095     -5.546      0.000      -0.719      -0.331\n",
            "Taxa_Juros        0.2643      0.074      3.560      0.001       0.112       0.417\n",
            "desemprego       -0.3169      0.199     -1.592      0.123      -0.725       0.092\n",
            "==============================================================================\n",
            "Omnibus:                        6.902   Durbin-Watson:                   1.010\n",
            "Prob(Omnibus):                  0.032   Jarque-Bera (JB):                2.436\n",
            "Skew:                           0.238   Prob(JB):                        0.296\n",
            "Kurtosis:                       1.837   Cond. No.                     9.12e+07\n",
            "==============================================================================\n",
            "\n",
            "Notes:\n",
            "[1] Standard Errors assume that the covariance matrix of the errors is correctly specified.\n",
            "[2] The condition number is large, 9.12e+07. This might indicate that there are\n",
            "strong multicollinearity or other numerical problems.\n"
          ]
        }
      ]
    },
    {
      "cell_type": "code",
      "source": [
        "#Retira RENDA_MEDIA com p-valor alto\n",
        "reg = sm.ols(formula = 'INAD~Empregoformal+IGP_M+IPCA+PIB+Salario+SELIC+Taxa_Juros+desemprego', data=df).fit()\n",
        "print(reg.summary())"
      ],
      "metadata": {
        "colab": {
          "base_uri": "https://localhost:8080/"
        },
        "id": "naj_V95PQ1Ie",
        "outputId": "c6229a7e-e779-4f27-9143-b5267b48d504"
      },
      "execution_count": null,
      "outputs": [
        {
          "output_type": "stream",
          "name": "stdout",
          "text": [
            "                            OLS Regression Results                            \n",
            "==============================================================================\n",
            "Dep. Variable:                   INAD   R-squared:                       0.878\n",
            "Model:                            OLS   Adj. R-squared:                  0.844\n",
            "Method:                 Least Squares   F-statistic:                     25.28\n",
            "Date:                Sat, 21 May 2022   Prob (F-statistic):           7.33e-11\n",
            "Time:                        20:16:23   Log-Likelihood:                 11.861\n",
            "No. Observations:                  37   AIC:                            -5.723\n",
            "Df Residuals:                      28   BIC:                             8.775\n",
            "Df Model:                           8                                         \n",
            "Covariance Type:            nonrobust                                         \n",
            "=================================================================================\n",
            "                    coef    std err          t      P>|t|      [0.025      0.975]\n",
            "---------------------------------------------------------------------------------\n",
            "Intercept         7.6054      5.598      1.359      0.185      -3.861      19.072\n",
            "Empregoformal     0.0126      0.054      0.235      0.816      -0.097       0.123\n",
            "IGP_M             0.1672      0.087      1.914      0.066      -0.012       0.346\n",
            "IPCA             -0.5673      0.201     -2.819      0.009      -0.980      -0.155\n",
            "PIB           -5.648e-06   3.49e-06     -1.620      0.117   -1.28e-05     1.5e-06\n",
            "Salario          -0.0030      0.001     -2.070      0.048      -0.006   -3.17e-05\n",
            "SELIC            -0.5247      0.093     -5.646      0.000      -0.715      -0.334\n",
            "Taxa_Juros        0.2631      0.072      3.632      0.001       0.115       0.411\n",
            "desemprego       -0.3401      0.109     -3.107      0.004      -0.564      -0.116\n",
            "==============================================================================\n",
            "Omnibus:                        7.241   Durbin-Watson:                   0.993\n",
            "Prob(Omnibus):                  0.027   Jarque-Bera (JB):                2.466\n",
            "Skew:                           0.230   Prob(JB):                        0.291\n",
            "Kurtosis:                       1.822   Cond. No.                     6.38e+07\n",
            "==============================================================================\n",
            "\n",
            "Warnings:\n",
            "[1] Standard Errors assume that the covariance matrix of the errors is correctly specified.\n",
            "[2] The condition number is large, 6.38e+07. This might indicate that there are\n",
            "strong multicollinearity or other numerical problems.\n"
          ]
        }
      ]
    },
    {
      "cell_type": "code",
      "source": [
        "#Retira EMPREGO_FORMAL com p-valor alto\n",
        "reg = sm.ols(formula = 'INAD~IGP_M+IPCA+PIB+Salario+SELIC+Taxa_Juros+desemprego', data=df).fit()\n",
        "print(reg.summary())"
      ],
      "metadata": {
        "colab": {
          "base_uri": "https://localhost:8080/"
        },
        "id": "m6EppsDoRXYc",
        "outputId": "b82a3d2d-9a66-4877-819c-ac5a67139e8a"
      },
      "execution_count": null,
      "outputs": [
        {
          "output_type": "stream",
          "name": "stdout",
          "text": [
            "                            OLS Regression Results                            \n",
            "==============================================================================\n",
            "Dep. Variable:                   INAD   R-squared:                       0.878\n",
            "Model:                            OLS   Adj. R-squared:                  0.849\n",
            "Method:                 Least Squares   F-statistic:                     29.86\n",
            "Date:                Sat, 21 May 2022   Prob (F-statistic):           1.31e-11\n",
            "Time:                        20:18:34   Log-Likelihood:                 11.825\n",
            "No. Observations:                  37   AIC:                            -7.650\n",
            "Df Residuals:                      29   BIC:                             5.238\n",
            "Df Model:                           7                                         \n",
            "Covariance Type:            nonrobust                                         \n",
            "==============================================================================\n",
            "                 coef    std err          t      P>|t|      [0.025      0.975]\n",
            "------------------------------------------------------------------------------\n",
            "Intercept      8.7944      2.371      3.709      0.001       3.945      13.643\n",
            "IGP_M          0.1766      0.076      2.313      0.028       0.020       0.333\n",
            "IPCA          -0.5887      0.177     -3.333      0.002      -0.950      -0.227\n",
            "PIB        -5.212e-06    2.9e-06     -1.794      0.083   -1.12e-05    7.29e-07\n",
            "Salario       -0.0028      0.001     -2.593      0.015      -0.005      -0.001\n",
            "SELIC         -0.5299      0.089     -5.962      0.000      -0.712      -0.348\n",
            "Taxa_Juros     0.2655      0.071      3.766      0.001       0.121       0.410\n",
            "desemprego    -0.3533      0.092     -3.823      0.001      -0.542      -0.164\n",
            "==============================================================================\n",
            "Omnibus:                        8.256   Durbin-Watson:                   0.983\n",
            "Prob(Omnibus):                  0.016   Jarque-Bera (JB):                2.554\n",
            "Skew:                           0.210   Prob(JB):                        0.279\n",
            "Kurtosis:                       1.783   Cond. No.                     2.75e+07\n",
            "==============================================================================\n",
            "\n",
            "Warnings:\n",
            "[1] Standard Errors assume that the covariance matrix of the errors is correctly specified.\n",
            "[2] The condition number is large, 2.75e+07. This might indicate that there are\n",
            "strong multicollinearity or other numerical problems.\n"
          ]
        }
      ]
    },
    {
      "cell_type": "code",
      "source": [
        "#Retira PIB com p-valor alto\n",
        "reg = sm.ols(formula = 'INAD~IGP_M+IPCA+Salario+SELIC+Taxa_Juros+desemprego', data=df).fit()\n",
        "print(reg.summary())\n",
        "\n",
        "#R2 Ajustado mostra o quão o modelo explica o comportamento de Y (INAD)\n",
        "#F - Statistic menor que 1 indicaque a amostra é estatisticamente válida\n",
        "#p-value (p>|t|) maior que 0.05 descarta a variável por ela não ser significante no modelo"
      ],
      "metadata": {
        "colab": {
          "base_uri": "https://localhost:8080/"
        },
        "id": "7zOEaCa5Rz1f",
        "outputId": "5c60a32d-fd49-40dc-cfca-72e458261572"
      },
      "execution_count": null,
      "outputs": [
        {
          "output_type": "stream",
          "name": "stdout",
          "text": [
            "                            OLS Regression Results                            \n",
            "==============================================================================\n",
            "Dep. Variable:                   INAD   R-squared:                       0.865\n",
            "Model:                            OLS   Adj. R-squared:                  0.838\n",
            "Method:                 Least Squares   F-statistic:                     31.93\n",
            "Date:                Sat, 21 May 2022   Prob (F-statistic):           9.74e-12\n",
            "Time:                        20:20:37   Log-Likelihood:                 9.8774\n",
            "No. Observations:                  37   AIC:                            -5.755\n",
            "Df Residuals:                      30   BIC:                             5.522\n",
            "Df Model:                           6                                         \n",
            "Covariance Type:            nonrobust                                         \n",
            "==============================================================================\n",
            "                 coef    std err          t      P>|t|      [0.025      0.975]\n",
            "------------------------------------------------------------------------------\n",
            "Intercept      5.2403      1.350      3.881      0.001       2.483       7.998\n",
            "IGP_M          0.1931      0.079      2.458      0.020       0.033       0.354\n",
            "IPCA          -0.5108      0.177     -2.879      0.007      -0.873      -0.148\n",
            "Salario       -0.0029      0.001     -2.643      0.013      -0.005      -0.001\n",
            "SELIC         -0.6408      0.066     -9.685      0.000      -0.776      -0.506\n",
            "Taxa_Juros     0.3552      0.052      6.897      0.000       0.250       0.460\n",
            "desemprego    -0.3202      0.094     -3.412      0.002      -0.512      -0.129\n",
            "==============================================================================\n",
            "Omnibus:                        6.915   Durbin-Watson:                   0.867\n",
            "Prob(Omnibus):                  0.032   Jarque-Bera (JB):                2.263\n",
            "Skew:                           0.148   Prob(JB):                        0.323\n",
            "Kurtosis:                       1.825   Cond. No.                     2.52e+04\n",
            "==============================================================================\n",
            "\n",
            "Warnings:\n",
            "[1] Standard Errors assume that the covariance matrix of the errors is correctly specified.\n",
            "[2] The condition number is large, 2.52e+04. This might indicate that there are\n",
            "strong multicollinearity or other numerical problems.\n"
          ]
        }
      ]
    },
    {
      "cell_type": "markdown",
      "source": [
        "## **Verificando integridade dos resultados**"
      ],
      "metadata": {
        "id": "6gxps9Ri2Waj"
      }
    },
    {
      "cell_type": "code",
      "source": [
        "#VERIFICANDO DIST DOS RESIDUOS\n",
        "inad_calc = reg.predict()\n",
        "residuo = df['INAD'] - inad_calc\n",
        "plt.hist(residuo)"
      ],
      "metadata": {
        "colab": {
          "base_uri": "https://localhost:8080/",
          "height": 352
        },
        "id": "o9xtbe_bR9FU",
        "outputId": "988cace8-1e51-4814-932f-c0b725a48fb4"
      },
      "execution_count": null,
      "outputs": [
        {
          "output_type": "execute_result",
          "data": {
            "text/plain": [
              "(array([4., 6., 5., 3., 3., 2., 7., 3., 2., 2.]),\n",
              " array([-0.26611245, -0.2052045 , -0.14429654, -0.08338859, -0.02248063,\n",
              "         0.03842732,  0.09933528,  0.16024323,  0.22115119,  0.28205914,\n",
              "         0.3429671 ]),\n",
              " <a list of 10 Patch objects>)"
            ]
          },
          "metadata": {},
          "execution_count": 41
        },
        {
          "output_type": "display_data",
          "data": {
            "text/plain": [
              "<Figure size 432x288 with 1 Axes>"
            ],
            "image/png": "[encoded data removed]"
          },
          "metadata": {
            "needs_background": "light"
          }
        }
      ]
    },
    {
      "cell_type": "code",
      "source": [
        "#Teste se os erros seguem distribuição normal p-value > 5%\n",
        "normaltest(residuo)"
      ],
      "metadata": {
        "colab": {
          "base_uri": "https://localhost:8080/"
        },
        "id": "LWhCxrpo1sVy",
        "outputId": "aa3fa461-8532-4fd9-c05d-b3b956d24818"
      },
      "execution_count": null,
      "outputs": [
        {
          "output_type": "execute_result",
          "data": {
            "text/plain": [
              "NormaltestResult(statistic=6.902404931473519, pvalue=0.03170748627972158)"
            ]
          },
          "metadata": {},
          "execution_count": 43
        }
      ]
    },
    {
      "cell_type": "code",
      "source": [
        "int(residuo.mean()) #a média dos resíduos deve ser igual a 0"
      ],
      "metadata": {
        "colab": {
          "base_uri": "https://localhost:8080/"
        },
        "id": "U4noHuv6029a",
        "outputId": "7280dc43-0e5e-463a-df46-d66505879552"
      },
      "execution_count": null,
      "outputs": [
        {
          "output_type": "execute_result",
          "data": {
            "text/plain": [
              "-1.3961684661242888e-12"
            ]
          },
          "metadata": {},
          "execution_count": 44
        }
      ]
    },
    {
      "cell_type": "code",
      "source": [
        "#Média dos valores estimados deve ser igual ao dos valores reais\n",
        "print(\"Média INAD Real: \", df['INAD'].mean())\n",
        "print(\"Média INAD Modelo\", inad_calc.mean())"
      ],
      "metadata": {
        "colab": {
          "base_uri": "https://localhost:8080/"
        },
        "id": "8FbvEwfb2bJ6",
        "outputId": "ccc7c8ba-4959-4f91-9ea7-6dcc58f415e2"
      },
      "execution_count": null,
      "outputs": [
        {
          "output_type": "stream",
          "name": "stdout",
          "text": [
            "Média INAD Real:  5.317027027027026\n",
            "Média INAD Modelo 5.317027027028424\n"
          ]
        }
      ]
    },
    {
      "cell_type": "markdown",
      "source": [
        "## **Gráfico comparativo INAD Real vs INAD Modelo**"
      ],
      "metadata": {
        "id": "7Rh4Wbwl3OiZ"
      }
    },
    {
      "cell_type": "code",
      "source": [
        "#Gráfico com backtest do modelo\n",
        "plt.plot(df['DATE'],inad_calc, color = 'red', label = 'INAD Modelo')\n",
        "plt.plot(df['DATE'],df['INAD'], color = 'blue', label = 'INAD Real')"
      ],
      "metadata": {
        "colab": {
          "base_uri": "https://localhost:8080/",
          "height": 282
        },
        "id": "BnF_G3FcSkZN",
        "outputId": "6fd8b3b8-8d0b-4b8f-ddd5-d4f0be94c93c"
      },
      "execution_count": null,
      "outputs": [
        {
          "output_type": "execute_result",
          "data": {
            "text/plain": [
              "[<matplotlib.lines.Line2D at 0x7fd5ff9fb9d0>]"
            ]
          },
          "metadata": {},
          "execution_count": 47
        },
        {
          "output_type": "display_data",
          "data": {
            "text/plain": [
              "<Figure size 432x288 with 1 Axes>"
            ],
            "image/png": "[encoded data removed]"
          },
          "metadata": {
            "needs_background": "light"
          }
        }
      ]
    }
  ]
}